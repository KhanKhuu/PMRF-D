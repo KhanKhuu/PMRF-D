{
 "cells": [
  {
   "cell_type": "code",
   "execution_count": 1,
   "metadata": {},
   "outputs": [],
   "source": [
    "import cv2\n",
    "import numpy as np\n",
    "import subprocess\n",
    "from os import path\n",
    "import unicodedata"
   ]
  },
  {
   "cell_type": "markdown",
   "metadata": {},
   "source": [
    "### Get names of all the images to open and their containing folder names"
   ]
  },
  {
   "cell_type": "code",
   "execution_count": 2,
   "metadata": {},
   "outputs": [
    {
     "name": "stdout",
     "output_type": "stream",
     "text": [
      "['CSBear.jpg', 'CSBuilding.jpg', 'CeramicSample.png', 'EcoPots.jpg', 'EngineeringBuilding.jpg', 'EucalyptusFence.jpg', 'ExampleManga.png', 'GanaLegs.jpg', 'GeiselLib.jpg', 'Hammocks.jpg', 'Sung.jpg', 'TritonStatue.jpg', 'UCSDFountain.jpg']\n",
      "['CSBear', 'CSBuilding', 'CeramicSample', 'EcoPots', 'EngineeringBuilding', 'EucalyptusFence', 'ExampleManga', 'GanaLegs', 'GeiselLib', 'Hammocks', 'Sung', 'TritonStatue', 'UCSDFountain']\n"
     ]
    }
   ],
   "source": [
    "with open(\"Input/imageNames.txt\") as f:\n",
    "    imageNames = f.read().splitlines()\n",
    "print(imageNames)\n",
    "imageFolderNames = [path.splitext(imageName)[0] for imageName in imageNames]\n",
    "print(imageFolderNames)"
   ]
  },
  {
   "cell_type": "markdown",
   "metadata": {},
   "source": [
    "### Get names of all the folders containing images with the corresponding noise type"
   ]
  },
  {
   "cell_type": "code",
   "execution_count": 3,
   "metadata": {},
   "outputs": [
    {
     "name": "stdout",
     "output_type": "stream",
     "text": [
      "['Gauss', 'Poisson', 'Salt_Pepper', 'Speckle']\n"
     ]
    }
   ],
   "source": [
    "with open(\"Input/imageCategories.txt\") as f:\n",
    "    imageCategories = f.read().splitlines()\n",
    "if 'Original' in imageCategories:\n",
    "    imageCategories.remove('Original')\n",
    "print(imageCategories)"
   ]
  },
  {
   "cell_type": "markdown",
   "metadata": {},
   "source": [
    "### Call PMRF-D for all the images"
   ]
  },
  {
   "cell_type": "code",
   "execution_count": null,
   "metadata": {},
   "outputs": [],
   "source": [
    "for i in range(len(imageNames)):\n",
    "    for noiseType in imageCategories:\n",
    "        folder = 'Input/' + imageFolderNames[i] + \"/\" + noiseType + \"/\"\n",
    "        noisedImageName = str(subprocess.check_output([\"ls\", folder]).decode('utf-8')).rstrip()\n",
    "        subprocess.run([\"./PMRF-D\", folder + noisedImageName, \"1000\"])\n"
   ]
  },
  {
   "cell_type": "code",
   "execution_count": null,
   "metadata": {},
   "outputs": [],
   "source": []
  }
 ],
 "metadata": {
  "kernelspec": {
   "display_name": "Python 3",
   "language": "python",
   "name": "python3"
  },
  "language_info": {
   "codemirror_mode": {
    "name": "ipython",
    "version": 3
   },
   "file_extension": ".py",
   "mimetype": "text/x-python",
   "name": "python",
   "nbconvert_exporter": "python",
   "pygments_lexer": "ipython3",
   "version": "3.7.1"
  }
 },
 "nbformat": 4,
 "nbformat_minor": 2
}
